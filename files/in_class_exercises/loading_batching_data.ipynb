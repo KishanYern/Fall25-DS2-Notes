{
 "cells": [
  {
   "cell_type": "markdown",
   "id": "db746c17",
   "metadata": {},
   "source": [
    "# In Class exercise (09/02)\n",
    "In this exercise, we will be using the Fashion-MNIST. This can be downloaded [here](https://github.com/zalandoresearch/fashion-mnist), using PyTorch's api `torchvision.datasets.FashionMNIST` [docs](https://docs.pytorch.org/vision/0.22/generated/torchvision.datasets.FashionMNIST.html), or using Tensorflow's api `tensorflow.keras.datasets.fashion_mnist` [docs](https://www.tensorflow.org/api_docs/python/tf/keras/datasets/fashion_mnist/load_data)"
   ]
  },
  {
   "cell_type": "markdown",
   "id": "52c5fdde",
   "metadata": {},
   "source": [
    "## Goal\n",
    "The goal of this exercise is to properly load the data in and perform mini-batching on it. Refresh on mini-batching can be found [here](https://machinelearningmastery.com/gentle-introduction-mini-batch-gradient-descent-configure-batch-size/)."
   ]
  },
  {
   "cell_type": "markdown",
   "id": "4719ffba",
   "metadata": {},
   "source": [
    "## Load the data\n",
    "In your preferred framework (PyTorch or TensorFlow), load in the Fashion-MNIST dataset. Make sure that the data is a processible entity (It can be fed directly into a network). There should be a Training dataset and a Testing dataset. If applicable, you can choose what split you would like to do."
   ]
  },
  {
   "cell_type": "code",
   "execution_count": null,
   "id": "a00208c7",
   "metadata": {},
   "outputs": [],
   "source": [
    "## Create the Training and Testing Dataset, and transform if necessary.\n",
    "\n",
    "# Insert Code Here"
   ]
  },
  {
   "cell_type": "markdown",
   "id": "0a76ee13",
   "metadata": {},
   "source": [
    "## Batching\n",
    "Now that you have loaded the data, iterate over the dataset in batches of size 64. Also make sure that the dataset is shuffled.\n",
    "\n",
    "A Tensorflow example can be found [here](https://www.tensorflow.org/guide/keras/writing_a_training_loop_from_scratch) \\\n",
    "A PyTorch example can be found [here](https://discuss.pytorch.org/t/mini-batches-in-a-pytorch-custom-model/154866)\n",
    "\n",
    "To iterate over the dataset, your loop should look something like this:\n",
    "```py\n",
    "for i, (x_batch, y_batch) in enumerate(dataset):\n",
    "```"
   ]
  },
  {
   "cell_type": "code",
   "execution_count": null,
   "id": "baca2fe7",
   "metadata": {},
   "outputs": [],
   "source": [
    "## Create and output batches of size 64. The dataset should be shuffled as well.\n",
    "\n",
    "# Insert Code Here"
   ]
  }
 ],
 "metadata": {
  "language_info": {
   "name": "python"
  }
 },
 "nbformat": 4,
 "nbformat_minor": 5
}
